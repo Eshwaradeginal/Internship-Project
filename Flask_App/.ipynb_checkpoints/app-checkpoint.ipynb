{
 "cells": [
  {
   "cell_type": "code",
   "execution_count": null,
   "id": "7a710d8b",
   "metadata": {},
   "outputs": [
    {
     "name": "stdout",
     "output_type": "stream",
     "text": [
      " * Serving Flask app \"__main__\" (lazy loading)\n",
      " * Environment: production\n",
      "   WARNING: This is a development server. Do not use it in a production deployment.\n",
      "   Use a production WSGI server instead.\n",
      " * Debug mode: off\n"
     ]
    },
    {
     "name": "stderr",
     "output_type": "stream",
     "text": [
      " * Running on http://0.0.0.0:8000/ (Press CTRL+C to quit)\n"
     ]
    }
   ],
   "source": [
    "import pickle\n",
    "import cv2\n",
    "from skimage import feature\n",
    "from flask import Flask,request, render_template\n",
    "import os.path\n",
    "app=Flask(__name__)#our flask app\n",
    "\n",
    "@app.route(\"/\") #default route\n",
    "def about():\n",
    "    return render_template(\"about.html\")#rendering html page\n",
    "\n",
    "@app.route(\"/about\") #route about page\n",
    "def home():\n",
    "    return render_template(\"about.html\")#rendering html page\n",
    "\n",
    "@app.route(\"/info\") # route for info page\n",
    "def information():\n",
    "    return render_template(\"info.html\")#rendering html page\n",
    "\n",
    "@app.route(\"/upload\") # route for uploads\n",
    "def test():\n",
    "    return render_template(\"index6.html\")#rendering html page\n",
    "\n",
    "@app.route('/predict', methods=['GET', 'POST'])\n",
    "def upload():\n",
    "    if request.method == 'POST':\n",
    "        f=request.files['file'] #requesting the file\n",
    "        basepath=os.path.dirname(__file__)#storing the file directory\n",
    "        filepath=os.path.join(basepath,\"uploads\",f.filename)#storing the file in uploads folder\n",
    "        f.save(filepath)#saving the file\n",
    "        #Loading the saved model\n",
    "        print(\"[INFO] loading model...\")\n",
    "        model = pickle.loads(open('parkinson.pkl', \"rb\").read())\n",
    "        # pre-process the image in the same manner we did earlier\n",
    "        image = cv2.imread(filepath)\n",
    "        output = image.copy()\n",
    "        # load the input image, convert it to grayscale, and resize\n",
    "        output = cv2.resize(output, (128, 128))\n",
    "        image = cv2.cvtColor(image, cv2.COLOR_BGR2GRAY)\n",
    "        image = cv2.resize(image, (200, 200))\n",
    "        image = cv2.threshold(image, 0, 255,\n",
    "    \tcv2.THRESH_BINARY_INV | cv2.THRESH_OTSU)[1]\n",
    "\n",
    "\n",
    "    \t# quantify the image and make predictions based on the extracted\n",
    "    \t# features using the last trained Random Forest\n",
    "        features = feature.hog(image, orientations=9,\n",
    "\t\tpixels_per_cell=(10, 10), cells_per_block=(2, 2),\n",
    "\t\ttransform_sqrt=True, block_norm=\"L1\")\n",
    "        preds = model.predict([features])\n",
    "        print(preds)\n",
    "        ls=[\"healthy\",\"parkinson\"]\n",
    "        result = ls[preds[0]]             \n",
    "        \n",
    "    \n",
    "    \t# draw the colored class label on the output image and add it to\n",
    "    \t# the set of output images\n",
    "        color = (0, 255, 0) if result == \"healthy\" else (0, 0, 255)\n",
    "        cv2.putText(output, result, (3, 20), cv2.FONT_HERSHEY_SIMPLEX, 0.5,color, 2)\n",
    "        cv2.imshow(\"Output\", output)\n",
    "        cv2.waitKey(0)\n",
    "        return result\n",
    "    return None\n",
    "\n",
    "if __name__==\"__main__\":\n",
    "    #app.run(debug=False)#running our app\n",
    "    app.run(host='0.0.0.0', port=8000,debug=False)\n",
    "            \n",
    "            "
   ]
  },
  {
   "cell_type": "code",
   "execution_count": null,
   "id": "69a9d539",
   "metadata": {},
   "outputs": [],
   "source": []
  }
 ],
 "metadata": {
  "kernelspec": {
   "display_name": "Python 3",
   "language": "python",
   "name": "python3"
  },
  "language_info": {
   "codemirror_mode": {
    "name": "ipython",
    "version": 3
   },
   "file_extension": ".py",
   "mimetype": "text/x-python",
   "name": "python",
   "nbconvert_exporter": "python",
   "pygments_lexer": "ipython3",
   "version": "3.8.8"
  }
 },
 "nbformat": 4,
 "nbformat_minor": 5
}
